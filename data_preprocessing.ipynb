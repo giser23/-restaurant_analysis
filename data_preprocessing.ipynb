{
 "cells": [
  {
   "cell_type": "code",
   "execution_count": 1,
   "metadata": {},
   "outputs": [],
   "source": [
    "import pandas as pd\n",
    "import numpy as np\n",
    "import dask.array as da\n",
    "import geopandas\n",
    "import dask.dataframe as dd\n",
    "import seaborn as sns\n",
    "import matplotlib.pyplot as plt"
   ]
  },
  {
   "cell_type": "markdown",
   "metadata": {},
   "source": [
    "# Top twenty MSA\n",
    "- New York-Newark-Jersey City, NY-NJ-PA MSA 19,768,458 20,140,470 −1.85% New York-Newark, NY-NJ-CT-PA CSA\n",
    "- Los Angeles-Long Beach-Anaheim, CA MSA 12,997,353 13,200,998 −1.54% Los Angeles-Long Beach, CA CSA\n",
    "- Chicago-Naperville-Elgin, IL-IN-WI MSA 9,509,934 9,618,502 −1.13% Chicago-Naperville, IL-IN-WI CSA\n",
    "- Dallas-Fort Worth-Arlington, TX MSA 7,759,615 7,637,387 +1.60% Dallas-Fort Worth, TX-OK CSA\n",
    "- Houston-The Woodlands-Sugar Land, TX MSA 7,206,841 7,122,240 +1.19% Houston-The Woodlands, TX CSA\n",
    "- Washington-Arlington-Alexandria, DC-VA-MD-WV MSA 6,356,434 6,385,162 −0.45% Washington-Baltimore-Arlington, DC-MD-VA-WV-PA CSA\n",
    "- Philadelphia-Camden-Wilmington, PA-NJ-DE-MD MSA 6,228,601 6,245,051 −0.26% Philadelphia-Reading-Camden, PA-NJ-DE-MD CSA\n",
    "- Atlanta-Sandy Springs-Alpharetta, GA MSA 6,144,050 6,089,815 +0.89% Atlanta–Athens-Clarke County–Sandy Springs, GA-AL CSA\n",
    "- Miami-Fort Lauderdale-West Palm Beach, FL MSA 6,091,747 6,138,333 −0.76% Miami-Port St. Lucie-Fort Lauderdale, FL CSA\n",
    "- Phoenix-Mesa-Chandler, AZ MSA 4,946,145 4,845,832 +2.07% Phoenix-Mesa, AZ CSA\n",
    "- Boston-Cambridge-Newton, MA-NH MSA 4,899,932 4,941,632 −0.84% Boston-Worcester-Providence, MA-RI-NH-CT CSA\n",
    "- Riverside-San Bernardino-Ontario, CA MSA 4,653,105 4,599,839 +1.16% Los Angeles-Long Beach, CA CSA\n",
    "- San Francisco-Oakland-Berkeley, CA MSA 4,623,264 4,749,008 −2.65% San Jose-San Francisco-Oakland, CA CSA\n",
    "- Detroit–Warren–Dearborn, MI MSA 4,365,205 4,392,041 −0.61% Detroit-Warren-Ann Arbor, MI CSA\n",
    "- Seattle-Tacoma-Bellevue, WA MSA 4,011,553 4,018,762 −0.18% Seattle-Tacoma, WA CSA\n",
    "- Minneapolis-St. Paul-Bloomington, MN-WI MSA 3,690,512 3,690,261 +0.01% Minneapolis-St. Paul, MN-WI CSA\n",
    "- San Diego-Chula Vista-Carlsbad, CA MSA 3,286,069 3,298,634 −0.38% \n",
    "- Tampa-St. Petersburg-Clearwater, FL MSA 3,219,514 3,175,275 +1.39% \n",
    "- Denver-Aurora-Lakewood, CO MSA 2,972,566 2,963,821 +0.30% Denver-Aurora, CO CSA\n",
    "- Baltimore-Columbia-Towson, MD MSA 2,838,327 2,844,510 −0.22% Washington-Baltimore-Arlington, DC-MD-VA-WV-PA CSA"
   ]
  },
  {
   "cell_type": "code",
   "execution_count": 2,
   "metadata": {},
   "outputs": [],
   "source": [
    "# the name doesn't match, re-adjusted after looking at the MSAnamelsad field in Rest_Attribute_Location_2022.sav\n",
    "top_msa = ['New York-Newark-Jersey City, NY-NJ-PA Metro Area', \n",
    "          'Los Angeles-Long Beach-Anaheim, CA Metro Area',\n",
    "          'Chicago-Naperville-Elgin, IL-IN-WI Metro Area',\n",
    "          'Dallas-Fort Worth-Arlington, TX Metro Area',\n",
    "          'Houston-The Woodlands-Sugar Land, TX Metro Area',\n",
    "          'Washington-Arlington-Alexandria, DC-VA-MD-WV Metro Area',\n",
    "          'Philadelphia-Camden-Wilmington, PA-NJ-DE-MD Metro Area',\n",
    "          'Atlanta-Sandy Springs-Alpharetta, GA Metro Area',\n",
    "          'Miami-Fort Lauderdale-Pompano Beach, FL Metro Area', # discrepency no west in the name\n",
    "          'Phoenix-Mesa-Chandler, AZ Metro Area',\n",
    "          'Boston-Cambridge-Newton, MA-NH Metro Area',\n",
    "          'Riverside-San Bernardino-Ontario, CA Metro Area',\n",
    "          'San Francisco-Oakland-Berkeley, CA Metro Area',\n",
    "          'Detroit-Warren-Dearborn, MI Metro Area',\n",
    "          'Seattle-Tacoma-Bellevue, WA Metro Area',\n",
    "          'Minneapolis-St. Paul-Bloomington, MN-WI Metro Area',\n",
    "          'San Diego-Chula Vista-Carlsbad, CA Metro Area',\n",
    "          'Tampa-St. Petersburg-Clearwater, FL Metro Area',\n",
    "          'Denver-Aurora-Lakewood, CO Metro Area',\n",
    "          'Baltimore-Columbia-Towson, MD Metro Area']"
   ]
  },
  {
   "cell_type": "code",
   "execution_count": 3,
   "metadata": {},
   "outputs": [],
   "source": [
    "folder = 'F:/data/restaurant'\n",
    "shp_path = folder+'/CBG_border/CBG_Border.shp'"
   ]
  },
  {
   "cell_type": "code",
   "execution_count": 4,
   "metadata": {},
   "outputs": [],
   "source": [
    "output_path = folder+'/parquet'\n",
    "output_tmp_path = folder+'/parquet_tmp_msa'\n",
    "output_tmp_msa_only_path = folder+'/parquet_tmp_msa_only'"
   ]
  },
  {
   "cell_type": "code",
   "execution_count": 5,
   "metadata": {},
   "outputs": [],
   "source": [
    "df = pd.read_spss(folder+'/Rest_Attribute_Location_2022.sav')"
   ]
  },
  {
   "cell_type": "code",
   "execution_count": null,
   "metadata": {},
   "outputs": [],
   "source": [
    "df.head()"
   ]
  },
  {
   "cell_type": "code",
   "execution_count": 7,
   "metadata": {},
   "outputs": [
    {
     "name": "stdout",
     "output_type": "stream",
     "text": [
      "22659 New York-Newark-Jersey City, NY-NJ-PA Metro Area\n",
      "11025 Los Angeles-Long Beach-Anaheim, CA Metro Area\n",
      "5842 Chicago-Naperville-Elgin, IL-IN-WI Metro Area\n",
      "3110 Dallas-Fort Worth-Arlington, TX Metro Area\n",
      "2470 Houston-The Woodlands-Sugar Land, TX Metro Area\n",
      "4184 Washington-Arlington-Alexandria, DC-VA-MD-WV Metro Area\n",
      "4798 Philadelphia-Camden-Wilmington, PA-NJ-DE-MD Metro Area\n",
      "2742 Atlanta-Sandy Springs-Alpharetta, GA Metro Area\n",
      "2676 Miami-Fort Lauderdale-Pompano Beach, FL Metro Area\n",
      "1204 Phoenix-Mesa-Chandler, AZ Metro Area\n",
      "5244 Boston-Cambridge-Newton, MA-NH Metro Area\n",
      "2280 Riverside-San Bernardino-Ontario, CA Metro Area\n",
      "3964 San Francisco-Oakland-Berkeley, CA Metro Area\n",
      "2595 Detroit-Warren-Dearborn, MI Metro Area\n",
      "2188 Seattle-Tacoma-Bellevue, WA Metro Area\n",
      "1291 Minneapolis-St. Paul-Bloomington, MN-WI Metro Area\n",
      "1860 San Diego-Chula Vista-Carlsbad, CA Metro Area\n",
      "1436 Tampa-St. Petersburg-Clearwater, FL Metro Area\n",
      "1386 Denver-Aurora-Lakewood, CO Metro Area\n",
      "2131 Baltimore-Columbia-Towson, MD Metro Area\n"
     ]
    }
   ],
   "source": [
    "#validate that the top 20 msas exist in the data\n",
    "for m in top_msa:\n",
    "    print(df[df['MSAnamelsad']==m].shape[0], m)"
   ]
  },
  {
   "cell_type": "code",
   "execution_count": 8,
   "metadata": {},
   "outputs": [],
   "source": [
    "df['place_county'] = df['statefp'] + df['countyfp']\n",
    "df['place_county'] = df['place_county'].astype(int)\n",
    "df['is_top20'] = np.where(df['MSAnamelsad'].isin(top_msa), 1, 0)"
   ]
  },
  {
   "cell_type": "code",
   "execution_count": 9,
   "metadata": {},
   "outputs": [],
   "source": [
    "df_cbg = pd.read_csv(folder+'/Restaurant_CBG.csv')\n",
    "df_cbg.rename(columns={'CBG_GEOID':'place_cbg'}, inplace=True)\n",
    "df_cbg = df_cbg[['placekey', 'place_cbg']]"
   ]
  },
  {
   "cell_type": "code",
   "execution_count": 10,
   "metadata": {},
   "outputs": [],
   "source": [
    "df = df.join(df_cbg.set_index('placekey'), on='Placekey')"
   ]
  },
  {
   "cell_type": "code",
   "execution_count": null,
   "metadata": {},
   "outputs": [],
   "source": [
    "df.head()"
   ]
  },
  {
   "cell_type": "code",
   "execution_count": 12,
   "metadata": {},
   "outputs": [],
   "source": [
    "df_select = df[['Placekey', 'place_county', 'MSA_indicator', 'MSAnamelsad', 'is_top20', 'place_cbg', 'Type', 'Lat', 'Lon']]"
   ]
  },
  {
   "cell_type": "code",
   "execution_count": 13,
   "metadata": {},
   "outputs": [],
   "source": [
    "df_place_geom = geopandas.GeoDataFrame(df_select[['Placekey', 'Lat', 'Lon']], geometry=geopandas.points_from_xy(df_select.Lon, df_select.Lat, crs=\"EPSG:4326\"))\n",
    "df_place_geom.set_index(\"Placekey\", inplace=True)\n",
    "df_place_geom.to_crs(3857, inplace=True)"
   ]
  },
  {
   "cell_type": "code",
   "execution_count": 15,
   "metadata": {},
   "outputs": [],
   "source": [
    "df_cbg_msa = pd.read_csv(folder+'/SelectedVariableandCentroid_CBG.csv')"
   ]
  },
  {
   "cell_type": "code",
   "execution_count": 16,
   "metadata": {},
   "outputs": [],
   "source": [
    "df_cbg_msa = df_cbg_msa[['CBGcode', 'MetroName']]\n",
    "df_cbg_msa = df_cbg_msa.set_index('CBGcode')\n",
    "df_cbg_msa.rename(columns={'MetroName':'source_msa'}, inplace=True)"
   ]
  },
  {
   "cell_type": "code",
   "execution_count": 17,
   "metadata": {},
   "outputs": [],
   "source": [
    "df_od = dd.read_csv(folder+'/modified_cbg_monthly_od_full.csv')"
   ]
  },
  {
   "cell_type": "code",
   "execution_count": null,
   "metadata": {},
   "outputs": [],
   "source": [
    "df_od.head()"
   ]
  },
  {
   "cell_type": "code",
   "execution_count": 19,
   "metadata": {},
   "outputs": [],
   "source": [
    "df_od['date'] = df_od['year'].astype(str) + '-'+df_od['month'].astype(str).str.zfill(2)"
   ]
  },
  {
   "cell_type": "code",
   "execution_count": null,
   "metadata": {},
   "outputs": [],
   "source": [
    "df_od.head()"
   ]
  },
  {
   "cell_type": "code",
   "execution_count": 21,
   "metadata": {},
   "outputs": [],
   "source": [
    "df_join = df_od.join(df_select.set_index('Placekey'), on='placekey')"
   ]
  },
  {
   "cell_type": "code",
   "execution_count": 23,
   "metadata": {},
   "outputs": [],
   "source": [
    "df_join = df_join.join(df_cbg_msa, on='cbg')"
   ]
  },
  {
   "cell_type": "code",
   "execution_count": 24,
   "metadata": {},
   "outputs": [],
   "source": [
    "# https://stackoverflow.com/questions/67426361/adding-new-dask-column-based-on-a-vectorized-function\n",
    "# or try this\n",
    "def myfunc(df):\n",
    "    df['self_loop'] = da.where(df['cbg']==df['place_cbg'], 1, 0)\n",
    "    df['self_loop_county'] = da.where(df['county']==df['place_county'], 1, 0)\n",
    "    df['place_cbg_str'] = df['place_cbg'].astype('Int64').astype(str).str.zfill(12)\n",
    "    df['cbg_str'] = df['cbg'].astype(str).str.zfill(12)\n",
    "    return df\n",
    "\n",
    "df_join = df_join.map_partitions(myfunc)"
   ]
  },
  {
   "cell_type": "code",
   "execution_count": null,
   "metadata": {},
   "outputs": [],
   "source": [
    "gdf = geopandas.read_file(shp_path)"
   ]
  },
  {
   "cell_type": "code",
   "execution_count": 26,
   "metadata": {},
   "outputs": [],
   "source": [
    "gdf.set_index(\"GEOID\", inplace=True)\n",
    "gdf.to_crs(3857, inplace=True)"
   ]
  },
  {
   "cell_type": "code",
   "execution_count": 27,
   "metadata": {},
   "outputs": [],
   "source": [
    "def myfuncDistance(df):\n",
    "    df['distance'] = df_place_geom.loc[df['placekey']].geometry.reset_index(drop=True).distance(gdf.loc[df['cbg_str']].geometry.centroid.reset_index(drop=True), align=False).to_numpy()\n",
    "    return df\n",
    "\n",
    "meta = dd.utils.make_meta(df_join)\n",
    "meta['distance'] = 0.0\n",
    "df_join = df_join.map_partitions(myfuncDistance, meta=meta)"
   ]
  },
  {
   "cell_type": "code",
   "execution_count": 28,
   "metadata": {},
   "outputs": [
    {
     "data": {
      "text/plain": [
       "(None,)"
      ]
     },
     "execution_count": 28,
     "metadata": {},
     "output_type": "execute_result"
    }
   ],
   "source": [
    "df_join.to_parquet(output_tmp_path)"
   ]
  },
  {
   "cell_type": "code",
   "execution_count": 29,
   "metadata": {},
   "outputs": [],
   "source": [
    "df_join = dd.read_parquet(output_tmp_path)"
   ]
  },
  {
   "cell_type": "markdown",
   "metadata": {},
   "source": [
    "# Only select rows where source and target are in the same MSA"
   ]
  },
  {
   "cell_type": "code",
   "execution_count": 30,
   "metadata": {},
   "outputs": [],
   "source": [
    "df_join = df_join.loc[df_join['MSAnamelsad'] == df_join['source_msa']]"
   ]
  },
  {
   "cell_type": "code",
   "execution_count": 31,
   "metadata": {},
   "outputs": [
    {
     "data": {
      "text/plain": [
       "(None,)"
      ]
     },
     "execution_count": 31,
     "metadata": {},
     "output_type": "execute_result"
    }
   ],
   "source": [
    "df_join.to_parquet(output_tmp_msa_only_path)"
   ]
  },
  {
   "cell_type": "markdown",
   "metadata": {},
   "source": [
    "# calculate categories"
   ]
  },
  {
   "cell_type": "code",
   "execution_count": 32,
   "metadata": {},
   "outputs": [],
   "source": [
    "df_join = dd.read_parquet(output_tmp_msa_only_path)"
   ]
  },
  {
   "cell_type": "code",
   "execution_count": 34,
   "metadata": {},
   "outputs": [],
   "source": [
    "bmin, bmax = dd.compute(df_join['distance'].min(), df_join['distance'].max())\n",
    "bins_100 = np.linspace(bmin, bmax, num=101) # 101 points, 100 categories\n",
    "\n",
    "bins_100_mid = []\n",
    "for i in range(len(bins_100)-1):\n",
    "    bins_100_mid.append((bins_100[i]+bins_100[i+1])/2)"
   ]
  },
  {
   "cell_type": "code",
   "execution_count": 37,
   "metadata": {},
   "outputs": [],
   "source": [
    "# setting the first element to 0, easier for filtering at the later stage\n",
    "bins_100_mid[0]=0"
   ]
  },
  {
   "cell_type": "code",
   "execution_count": 38,
   "metadata": {},
   "outputs": [],
   "source": [
    "# don't do cut within groups, faster and also unified range\n",
    "# https://issues.apache.org/jira/browse/ARROW-14569?page=com.atlassian.jira.plugin.system.issuetabpanels%3Aall-tabpanel pyarrow has a issue that has to specify the labels for now\n",
    "# for dask https://stackoverflow.com/questions/67790368/will-dask-map-partitionspd-cut-bins-actually-operate-on-entire-dataframe, has to pass the bins as an array\n",
    "df_join = df_join.assign(distance_bin_100_cat = df_join['distance'].map_partitions(pd.cut, bins=bins_100, include_lowest=True, labels = bins_100_mid))\n",
    "\n",
    "def convert_cat(df):\n",
    "    return df.to_numpy()\n",
    "\n",
    "df_join = df_join.assign(distance_bin_100 = df_join['distance_bin_100_cat'].map_partitions(convert_cat))"
   ]
  },
  {
   "cell_type": "code",
   "execution_count": 39,
   "metadata": {},
   "outputs": [
    {
     "data": {
      "text/plain": [
       "(None,)"
      ]
     },
     "execution_count": 39,
     "metadata": {},
     "output_type": "execute_result"
    }
   ],
   "source": [
    "df_join.to_parquet(output_path)"
   ]
  }
 ],
 "metadata": {
  "kernelspec": {
   "display_name": "aienv",
   "language": "python",
   "name": "aienv"
  },
  "language_info": {
   "codemirror_mode": {
    "name": "ipython",
    "version": 3
   },
   "file_extension": ".py",
   "mimetype": "text/x-python",
   "name": "python",
   "nbconvert_exporter": "python",
   "pygments_lexer": "ipython3",
   "version": "3.7.7"
  }
 },
 "nbformat": 4,
 "nbformat_minor": 5
}
